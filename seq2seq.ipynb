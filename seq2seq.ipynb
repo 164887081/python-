{
 "cells": [
  {
   "cell_type": "markdown",
   "id": "c4ea0ebc-565f-42ab-8166-df6c0e3d25e5",
   "metadata": {},
   "source": [
    "# 1 导包"
   ]
  },
  {
   "cell_type": "code",
   "execution_count": 1,
   "id": "b6c73cf2-d097-4c12-b511-75313cfb3a95",
   "metadata": {},
   "outputs": [],
   "source": [
    "# 从io工具包导入open方法\n",
    "from io import open\n",
    "# 用于字符规范化\n",
    "import unicodedata\n",
    "# 用于正则化表达式\n",
    "import re\n",
    "# 用于随机生成数据\n",
    "import random\n",
    "# 用于构建网络结构和函数的torch包\n",
    "import torch\n",
    "import torch.nn as nn\n",
    "import torch.nn.functional as F\n",
    "import time\n",
    "import math\n",
    "# torch中预定义的优化方法工具包\n",
    "from torch import optim"
   ]
  },
  {
   "cell_type": "code",
   "execution_count": null,
   "id": "63e1f6cb-7098-4e6a-8a19-1bb2335d4254",
   "metadata": {},
   "outputs": [],
   "source": [
    "# 设备选择，可以选择cuda或者cpu上运行\n",
    "# device = torch.device(\"cuda\" if torch.cuda.is_available() else \"cpu\")"
   ]
  },
  {
   "cell_type": "code",
   "execution_count": 2,
   "id": "9e23ff44-6ce0-49c3-8339-8bcf7e2557e4",
   "metadata": {},
   "outputs": [],
   "source": [
    "# 定义起始标志\n",
    "SOS_token = 0\n",
    "# 定义结束标志\n",
    "EOS_token = 1\n",
    "class Lang():\n",
    "    def __init__(self, name):\n",
    "        # name 传入某种语言的名字\n",
    "        self.name = name\n",
    "        # 初始化单词到索引的字典\n",
    "        self.word2index = {}\n",
    "        # 初始化索引到单词的映射字典, 其中0、1对应的SOS、EOS已经在字典中\n",
    "        self.index2word = {0: \"SOS\", 1: \"EOS\"}\n",
    "        # 初始化词汇对应数字索引, 从2开始, 因为0, 1已经被占用\n",
    "        self.n_words = 2\n",
    "\n",
    "    def addSentence(self, sentence):\n",
    "        # 添加句子的函数, 将整个句子中所有单词依次添加到字典中\n",
    "        # 可以使用空格进行分词即可，不需要jieba库\n",
    "        for word in sentence.split(\" \"):\n",
    "            self.addWord(word)\n",
    "\n",
    "    def addWord(self, word):\n",
    "        # 添加单词到类内字典, 将单词转为数字\n",
    "        # 首先判断单词是否已经在字典中\n",
    "        if word not in self.word2index:\n",
    "            # 索引值是当前类中单词总量\n",
    "            self.word2index[word] = self.n_words\n",
    "            self.index2word[self.n_words] = word\n",
    "            self.n_words += 1"
   ]
  },
  {
   "cell_type": "code",
   "execution_count": 3,
   "id": "2eb86ed6-24be-4447-be5a-fc29c2310a7c",
   "metadata": {},
   "outputs": [
    {
     "name": "stdout",
     "output_type": "stream",
     "text": [
      "word2index:  {'hello': 2, 'I': 3, 'am': 4, 'Jay': 5}\n",
      "index2word:  {0: 'SOS', 1: 'EOS', 2: 'hello', 3: 'I', 4: 'am', 5: 'Jay'}\n",
      "n_words:  6\n"
     ]
    }
   ],
   "source": [
    "name = \"eng\"\n",
    "sentence = \"hello I am Jay\"\n",
    "\n",
    "eng1 = Lang(name)\n",
    "eng1.addSentence(sentence)\n",
    "print(\"word2index: \", eng1.word2index)\n",
    "print(\"index2word: \", eng1.index2word)\n",
    "print(\"n_words: \", eng1.n_words)"
   ]
  },
  {
   "cell_type": "code",
   "execution_count": 4,
   "id": "6e22766c-0d29-4069-a8b1-728b5c6d6bf8",
   "metadata": {},
   "outputs": [],
   "source": [
    "# 构建时间函数\n",
    "def timeSince(since):\n",
    "    # since 代表模型训练开始时间\n",
    "    now = time.time()\n",
    "    s = now - since\n",
    "    m = math.floor(s / 60)\n",
    "    s -= m * 60\n",
    "    return \"%dm %ds\" % (m, s)"
   ]
  },
  {
   "cell_type": "code",
   "execution_count": 5,
   "id": "605cdd6a-cc74-4ac8-bd10-10fe2d66db99",
   "metadata": {},
   "outputs": [],
   "source": [
    "# 字符规范化\n",
    "def unicodeToAScii(s):\n",
    "    return \"\".join(c for c in unicodedata.normalize(\"NFD\", s) if unicodedata.category(c) != \"Mn\")\n",
    "\n",
    "def normalizeString(s):\n",
    "    # 第一步 使字符转变为小写并去除两侧空白符，再调用上面函数转换为ASCII字符串\n",
    "    s = unicodeToAScii(s.lower().strip())\n",
    "    # 在.!?前面加空格\n",
    "    s = re.sub(r\"([.!?])\", r\" \\1\", s)\n",
    "    # 使用正则表达式将字符串中不是大小写字母和正常标点符号的全部转化为空格\n",
    "    s = re.sub(r\"[^a-zA-Z.!?]+\", r\" \", s)\n",
    "    return s"
   ]
  },
  {
   "cell_type": "code",
   "execution_count": 6,
   "id": "f960e17e-f0a8-439c-aa84-3f16c6e63b3c",
   "metadata": {},
   "outputs": [
    {
     "name": "stdout",
     "output_type": "stream",
     "text": [
      "are you kidding me ?\n"
     ]
    }
   ],
   "source": [
    "s1 = \"Are you kidding me?\"\n",
    "res = normalizeString(s1)\n",
    "print(res)"
   ]
  },
  {
   "cell_type": "code",
   "execution_count": 7,
   "id": "23447153-a4f6-4c1d-8985-0eee7e8c42ab",
   "metadata": {},
   "outputs": [],
   "source": [
    "# 读取数据\n",
    "data_path = \"./data/data/eng-fra.txt\"\n",
    "# 读取原始数据并实例化源语言+目标语言的类对象\n",
    "def readLangs(lang1, lang2):\n",
    "    # lang1: 源语言名字\n",
    "    # lang2: 目标语言名字\n",
    "    # 整个函数返回对应的两个类对象，以及语言对的列表\n",
    "    lines = open(data_path, encoding=\"utf-8\").read().strip().split(\"\\n\")\n",
    "    # 对lines列表中的句子进行标准化处理，并以\\t再次划分, 形成子列表\n",
    "    pairs = [[normalizeString(s) for s in l.split(\"\\t\")] for l in lines]\n",
    "    # 直接初始化两个类对象\n",
    "    input_lang = Lang(lang1)\n",
    "    output_lang = Lang(lang2)\n",
    "    return input_lang, output_lang, pairs"
   ]
  },
  {
   "cell_type": "code",
   "execution_count": 8,
   "id": "a3f93bba-c691-4331-814a-16fffab7f9fc",
   "metadata": {},
   "outputs": [
    {
     "name": "stdout",
     "output_type": "stream",
     "text": [
      "input_lang: <__main__.Lang object at 0x0000025CCCF505B0>\n",
      "output_lang: <__main__.Lang object at 0x0000025CCD1C6370>\n",
      "pairs: [['go .', 'va !'], ['run !', 'cours !'], ['run !', 'courez !'], ['wow !', 'ca alors !'], ['fire !', 'au feu !']]\n"
     ]
    }
   ],
   "source": [
    "lang1 = \"eng\"\n",
    "lang2 = \"fra\"\n",
    "input_lang, output_lang, pairs = readLangs(lang1, lang2)\n",
    "print(f\"input_lang: {input_lang}\")\n",
    "print(f\"output_lang: {output_lang}\")\n",
    "print(f\"pairs: {pairs[: 5]}\")"
   ]
  },
  {
   "cell_type": "markdown",
   "id": "93fe0207-5db4-4faa-99a0-770ee8cbcc85",
   "metadata": {},
   "source": [
    "## 过滤符合要求的语言对"
   ]
  },
  {
   "cell_type": "code",
   "execution_count": 9,
   "id": "11ab3b77-cc28-4aee-b921-84e2fca629c8",
   "metadata": {},
   "outputs": [],
   "source": [
    "# 设置组成句子中单词或标点的最多个数\n",
    "MAX_LENGTH = 10\n",
    "# 选择带有指定前缀的语言特征数据作为训练数据\n",
    "eng_profixes = (\n",
    "    \"i am \", \"i m \",\n",
    "    \"he is\", \"he s \",\n",
    "    \"she is\", \"she s \",\n",
    "    \"you are\", \"you re \",\n",
    "    \"we are\", \"we re \", \n",
    "    \"they are\", \"they re \"\n",
    ")\n",
    "\n",
    "# 过滤语言对的具体逻辑函数\n",
    "def filterPair(pair):\n",
    "    # 当前传入的pair是语言对的形式\n",
    "    # pair[0] 代表英文源语句，长度且指定前缀\n",
    "    # pair[1] 代表法文\n",
    "    return len(pair[0].split(\" \")) < MAX_LENGTH and pair[0].startswith(eng_profixes) and len(pair[1].split(\" \")) < MAX_LENGTH\n",
    "# 过滤语言对的函数\n",
    "def filterPairs(pairs):\n",
    "    # 函数直接遍历列表中的每个语言字符串并调用filterPairs函数即可\n",
    "    return [pair for pair in pairs if filterPair(pair)]"
   ]
  },
  {
   "cell_type": "code",
   "execution_count": 10,
   "id": "05d490a8-9e72-4690-bc19-72ede2310740",
   "metadata": {},
   "outputs": [
    {
     "name": "stdout",
     "output_type": "stream",
     "text": [
      "过滤后的pairs前五个: [['i m .', 'j ai ans .'], ['i m ok .', 'je vais bien .'], ['i m ok .', 'ca va .'], ['i m fat .', 'je suis gras .'], ['i m fat .', 'je suis gros .']]\n"
     ]
    }
   ],
   "source": [
    "fpairs = filterPairs(pairs)\n",
    "print(\"过滤后的pairs前五个:\", fpairs[:5])\n"
   ]
  },
  {
   "cell_type": "code",
   "execution_count": 11,
   "id": "a259eaf2-fa53-4451-b1cc-92ca48a82d64",
   "metadata": {},
   "outputs": [],
   "source": [
    "# 整合数据预处理的函数\n",
    "# def prepareData(lang1, lang2):\n",
    "#     input_lang, output_lang, pairs = readLangs(lang1, lang2)\n",
    "#     # 对字符串类型列表进行过滤\n",
    "#     pairs = filterPairs(pairs)\n",
    "#     # 对过滤后的列表进行遍历操作，添加到类对象\n",
    "#     for pair in pairs:\n",
    "#         input_lang.addSentence(pair[0])\n",
    "#         output_lang.addSentence(pair[1])\n",
    "#         # 返回数值映射后的类对象以及过滤后的语言对列表\n",
    "#     return input_lang, output_lang, pairs\n",
    "\n",
    "def prepareData(lang1, lang2):\n",
    "    \"\"\"数据准备函数, 完成将所有字符串数据向数值型数据的映射以及过滤语言对\n",
    "       参数lang1, lang2分别代表源语言和目标语言的名字\"\"\"\n",
    "    # 首先通过readLangs函数获得input_lang, output_lang对象，以及字符串类型的语言对列表\n",
    "    input_lang, output_lang, pairs = readLangs(lang1, lang2)\n",
    "    # 对字符串类型的语言对列表进行过滤操作\n",
    "    pairs = filterPairs(pairs)\n",
    "    # 对过滤后的语言对列表进行遍历\n",
    "    for pair in pairs:\n",
    "        # 并使用input_lang和output_lang的addSentence方法对其进行数值映射\n",
    "        input_lang.addSentence(pair[0])\n",
    "        output_lang.addSentence(pair[1])\n",
    "    # 返回数值映射后的对象, 和过滤后语言对\n",
    "    return input_lang, output_lang, pairs\n"
   ]
  },
  {
   "cell_type": "code",
   "execution_count": 12,
   "id": "12533d8f-58fc-4809-b12e-8c9a70b3a3ea",
   "metadata": {},
   "outputs": [
    {
     "name": "stdout",
     "output_type": "stream",
     "text": [
      "input_lang:  2803\n",
      "output_lang:  4345\n",
      "['he s too slow .', 'il est trop lent .']\n"
     ]
    }
   ],
   "source": [
    "input_lang, output_lang, pairs = prepareData(\"eng\", \"fra\")\n",
    "print(\"input_lang: \", input_lang.n_words)\n",
    "print(\"output_lang: \", output_lang.n_words)\n",
    "print(random.choice(pairs))"
   ]
  },
  {
   "cell_type": "code",
   "execution_count": 13,
   "id": "71b12bb2-d199-4e08-ad4e-2b3958b5488d",
   "metadata": {},
   "outputs": [],
   "source": [
    "# 将语言对转化为模型输入需要的张量\n",
    "def tensorsFromSentence(lang, sentence):\n",
    "    # lang: 传入的Lang实例化对象\n",
    "    # sentence: 传入的语句\n",
    "    indexs = [lang.word2index[word] for word in sentence.split(\" \")]\n",
    "    # 要在列表最后添加结束标志\n",
    "    indexs.append(EOS_token)\n",
    "    # 将其封装成torch.tensor类型，并改变形状为n*1\n",
    "    return torch.tensor(indexs,dtype=torch.long).view(-1, 1)\n",
    "\n",
    "\n",
    "def tensorsFromPair(pair):\n",
    "    # pair: 代表一个语言对(英文, 法文)\n",
    "    # 依次调用具体的处理函数，分别处理源语言和目标语言\n",
    "    input_tensor = tensorsFromSentence(input_lang, pair[0])\n",
    "    output_tensor = tensorsFromSentence(output_lang, pair[1])\n",
    "    return (input_tensor, output_tensor)"
   ]
  },
  {
   "cell_type": "code",
   "execution_count": 15,
   "id": "9bc1c4c7-640c-447d-8f37-891c370a1cba",
   "metadata": {},
   "outputs": [
    {
     "name": "stdout",
     "output_type": "stream",
     "text": [
      "['i m .', 'j ai ans .']\n",
      "编码: (tensor([[2],\n",
      "        [3],\n",
      "        [4],\n",
      "        [1]]), tensor([[2],\n",
      "        [3],\n",
      "        [4],\n",
      "        [5],\n",
      "        [1]]))\n",
      "2\n",
      "tensor([2])\n"
     ]
    }
   ],
   "source": [
    "pair_tensor = tensorsFromPair(pairs[0])\n",
    "print(pairs[0])\n",
    "print(f\"编码: {pair_tensor}\")\n",
    "print(len(pairs[0]))\n",
    "print(pair_tensor[0][0])"
   ]
  },
  {
   "cell_type": "code",
   "execution_count": null,
   "id": "956dd320-fb9a-473b-abfd-4dc649608c30",
   "metadata": {},
   "outputs": [],
   "source": []
  },
  {
   "cell_type": "markdown",
   "id": "e4f02229-6a81-4642-91cf-6de7e0839abd",
   "metadata": {},
   "source": [
    "# 构建基于GRU的编码器和解码器"
   ]
  },
  {
   "cell_type": "code",
   "execution_count": 15,
   "id": "7922fef6-85ea-4264-b61b-1c5ba4e8a8c1",
   "metadata": {},
   "outputs": [],
   "source": [
    "class EncodeRNN(nn.Module):\n",
    "    def __init__(self, input_size, hidden_size):\n",
    "        # input_size 代表编码器输入尺寸，即英文的词表大小\n",
    "        # hidden_size 代表GRU隐层维度、词嵌入维度\n",
    "        super(EncodeRNN, self).__init__()\n",
    "        self.input_size = input_size\n",
    "        self.hidden_size = hidden_size\n",
    "        # 示例化Embedding层, 输入参数是 词表单词总数和词嵌入维度\n",
    "        self.embedding = nn.Embedding(input_size, hidden_size)\n",
    "        # 实例化GRU\n",
    "        self.gru = nn.GRU(hidden_size, hidden_size)\n",
    "\n",
    "    def forward(self, input1, hidden):\n",
    "        # 经过embedding处理后，张量是一个二维张量，GRU要求是一个三维张量，因此需要扩展维度可以使用view处理, 同时让任意单词映射后的尺寸是[1, embedding]\n",
    "        output = self.embedding(input1).view(1, 1, -1)\n",
    "        # print(f\"embedding: {output.shape}\")\n",
    "        # 将output传入GRU单元中\n",
    "        output, hidden = self.gru(output, hidden)\n",
    "        return output, hidden\n",
    "\n",
    "    def initHidden(self):\n",
    "        # 将隐层张量初始化: [1, 1, hidden_size]\n",
    "        return torch.zeros(1, 1, self.hidden_size)"
   ]
  },
  {
   "cell_type": "code",
   "execution_count": 16,
   "id": "285165f9-5924-4934-95b4-2eff79e559c9",
   "metadata": {},
   "outputs": [],
   "source": [
    "hidden_size = 25\n",
    "input_size = 20\n",
    "input1 = pair_tensor[0][0]\n",
    "hidden = torch.zeros(1, 1, hidden_size)"
   ]
  },
  {
   "cell_type": "code",
   "execution_count": 17,
   "id": "7cfcf954-40b2-486b-96ca-de04db013518",
   "metadata": {},
   "outputs": [
    {
     "name": "stdout",
     "output_type": "stream",
     "text": [
      "input1: tensor([2])\n",
      "torch.Size([1, 1, 25])\n"
     ]
    }
   ],
   "source": [
    "encoder = EncodeRNN(input_size, hidden_size)\n",
    "output, hidden = encoder(input1, hidden)\n",
    "print(f\"input1: {input1}\")\n",
    "print(output.shape)"
   ]
  },
  {
   "cell_type": "markdown",
   "id": "2334e78b-29a1-459d-bd5d-013211105b3b",
   "metadata": {},
   "source": [
    "## 解码器"
   ]
  },
  {
   "cell_type": "code",
   "execution_count": 18,
   "id": "0a6f2871-3b7d-4573-afbb-33e007663122",
   "metadata": {},
   "outputs": [],
   "source": [
    "class DecodeRNN(nn.Module):\n",
    "    def __init__(self, hidden_size, output_size):\n",
    "        # hidden_size: 代表隐层维度, 解码器输入尺寸\n",
    "        # output_size 代表整个解码器的输出尺寸, 指定的尺寸也就是目标语言的单词总数\n",
    "        super(DecodeRNN, self).__init__()\n",
    "        self.hidden_size = hidden_size\n",
    "        self.output_size = output_size\n",
    "        # 实例化Embedding对象\n",
    "        self.embedding = nn.Embedding(output_size, hidden_size)\n",
    "        self.gru = nn.GRU(hidden_size, hidden_size)\n",
    "        # 实例化线性层.线性变换得到希望的输出尺寸\n",
    "        self.out = nn.Linear(hidden_size, output_size)\n",
    "        self.softmax = nn.LogSoftmax(dim=1)\n",
    "\n",
    "    def forward(self, input1, hidden):\n",
    "        output = self.embedding(input1).view(1, 1, -1)\n",
    "        # 使用relu函数处理，使得Embedding矩阵更稀疏，防止过拟合\n",
    "        output = F.relu(output)\n",
    "        output, hidden = self.gru(output, hidden)\n",
    "        # print(f\"gru处理后的维度: {output.shape}\")\n",
    "        # 经过gru处理后是三维张量，但是全连接层处理的是二维张量，因此需要降维\n",
    "        output = self.softmax(self.out(output[0]))\n",
    "        return output, hidden\n",
    "\n",
    "    def initHidden(self):\n",
    "        return torch.zeros(1, 1, self.hidden)"
   ]
  },
  {
   "cell_type": "code",
   "execution_count": 19,
   "id": "a513ae94-d9ca-475b-a293-7ccbadf26300",
   "metadata": {},
   "outputs": [],
   "source": [
    "hidden_size = 10\n",
    "output_size = 10\n",
    "input1 = pair_tensor[1][0]\n",
    "hidden = torch.zeros(1, 1, hidden_size)"
   ]
  },
  {
   "cell_type": "code",
   "execution_count": 20,
   "id": "840957b3-0b55-4721-a675-77318f591f04",
   "metadata": {},
   "outputs": [
    {
     "name": "stdout",
     "output_type": "stream",
     "text": [
      "torch.Size([1, 10])\n"
     ]
    }
   ],
   "source": [
    "decoder = DecodeRNN(hidden_size, output_size)\n",
    "output, hidden = decoder(input1, hidden)\n",
    "print(output.shape)"
   ]
  },
  {
   "cell_type": "markdown",
   "id": "edb3b060-5b23-4cec-98da-3ef2a0261b31",
   "metadata": {},
   "source": [
    "## 基于GRU和Attentional机制的解码器"
   ]
  },
  {
   "cell_type": "code",
   "execution_count": 18,
   "id": "5c5301ff-8a24-46d2-b34b-1c4b3e46c72f",
   "metadata": {},
   "outputs": [],
   "source": [
    "class AttnDecoderRNN(nn.Module):\n",
    "    def __init__(self, hidden_size, output_size, dropout_p=0.1, max_length=MAX_LENGTH):\n",
    "        # hidden_size: 解码器的gru输出尺寸\n",
    "        # output_size: 指定的网络输出尺寸, 目标语言的词汇总数\n",
    "        # dropout_p: Dropout\n",
    "        # max_length: 句子最大尺度\n",
    "        super(AttnDecoderRNN, self).__init__()\n",
    "        self.hidden_size = hidden_size\n",
    "        self.output_size = output_size\n",
    "        self.dropout_p = dropout_p\n",
    "        self.max_length = max_length\n",
    "\n",
    "        # 实例化Embedding层，参数是两个: 目标语言词汇总数、词嵌入维度\n",
    "        self.embedding = nn.Embedding(output_size, hidden_size)\n",
    "        # 实例化第一个注意力层, 注意输入是两个张量的合并\n",
    "        self.attn = nn.Linear(self.hidden_size * 2, self.max_length)\n",
    "        # 实例化第二个注意力层, 注意输入是两个张量合并,然后进入gru\n",
    "        self.attn_combine = nn.Linear(self.hidden_size * 2, self.hidden_size)\n",
    "        # 实例化Drop\n",
    "        self.dropout = nn.Dropout(self.dropout_p)\n",
    "        # 实例化gru\n",
    "        self.gru = nn.GRU(self.hidden_size, self.hidden_size)\n",
    "        # 实例化之后的线性层,作为整个解码器输出\n",
    "        self.out = nn.Linear(self.hidden_size, self.output_size)\n",
    "\n",
    "    def forward(self, input1, hidden, encoder_output):\n",
    "        # input1 代表原数据输入张量\n",
    "        # hidden: 初始化隐层维度\n",
    "        # encoder_output: 编码器输出张量\n",
    "        # 对输入的 input1进行词嵌入处理,并扩展维度\n",
    "        embeded = self.embedding(input1).view(1, 1, -1)\n",
    "        embeded = self.dropout(embeded)\n",
    "        print(f\"输出 embeded 形状: {embeded.shape}\")\n",
    "        print(f\"输出hidden: {hidden.shape}\")\n",
    "        # 进入注意力层\n",
    "        # 进行第一个注意力层处理前,将QK进行纵轴拼接\n",
    "        attn_weights =F.softmax(self.attn(torch.cat((embeded[0], hidden[0]), 1)), dim=1)\n",
    "        print(f\"attn_weights形状: {attn_weights.shape}\")\n",
    "        # 进行bmm操作, 注意将二维张量扩展为三维\n",
    "        attn_applied = torch.bmm(attn_weights.unsqueeze(0), encoder_output.unsqueeze(0))\n",
    "\n",
    "        # 再次拼接, 顺降维\n",
    "        output = torch.cat((embeded[0], attn_applied[0]), 1)\n",
    "        # 将 output 输入到第二个注意力层\n",
    "        output = self.attn_combine(output).unsqueeze(0)\n",
    "        output = F.relu(output)\n",
    "        # 激活后的张量连同隐层张量传入gru\n",
    "        output, hidden = self.gru(output, hidden)\n",
    "        output = F.log_softmax(self.out(output[0]), dim=1)\n",
    "        return output, hidden, attn_weights\n",
    "\n",
    "    def initHidden(self):\n",
    "        return torch.zeros(1, 1, self.hidden_size)"
   ]
  },
  {
   "cell_type": "code",
   "execution_count": 19,
   "id": "a3716bb9-3ca0-4408-b33a-f6f6b2f000f3",
   "metadata": {},
   "outputs": [
    {
     "name": "stdout",
     "output_type": "stream",
     "text": [
      "输出 embeded 形状: torch.Size([1, 1, 25])\n",
      "输出hidden: torch.Size([1, 1, 25])\n",
      "attn_weights形状: torch.Size([1, 10])\n",
      "input1: torch.Size([1])\n",
      "encoder_output: torch.Size([10, 25])\n",
      "torch.Size([1, 10])\n",
      "torch.Size([1, 1, 25])\n",
      "torch.Size([1, 10])\n"
     ]
    }
   ],
   "source": [
    "hidden_size = 25\n",
    "output_size = 10\n",
    "input1 = pair_tensor[1][0]\n",
    "hidden = torch.zeros(1, 1, hidden_size)\n",
    "encoder_output = torch.randn(10, 25)\n",
    "decoder_attn = AttnDecoderRNN(hidden_size, output_size)\n",
    "output, hidden, attn_weights = decoder_attn(input1, hidden, encoder_output)\n",
    "print(f\"input1: {input1.shape}\")\n",
    "print(f\"encoder_output: {encoder_output.shape}\")\n",
    "print(output.shape)\n",
    "print(hidden.shape)\n",
    "print(attn_weights.shape)"
   ]
  },
  {
   "cell_type": "markdown",
   "id": "1714661e-059c-4515-8238-fefffba9f0c4",
   "metadata": {},
   "source": [
    "## 构建训练函数"
   ]
  },
  {
   "cell_type": "code",
   "execution_count": 31,
   "id": "c525f6df-0a98-47bc-b08d-305cb8c05869",
   "metadata": {},
   "outputs": [],
   "source": [
    "# 设定teacher_forcing的比率，在多大的概率下使用这个策略训练\n",
    "teacher_forcing_ratio = 0.5\n",
    "def train(input_tensor, target_tensor, encoder, decoder, encoder_optimizer, decoder_optimizer, criterion, max_length=MAX_LENGTH):\n",
    "    \"\"\"\n",
    "    input_tensor: 代表源语言的输入张量\n",
    "    target_tensor: 代表目标语言的输入张量\n",
    "    encoder: 代表编码器的实例化对象\n",
    "    decoder: 代表解码器的实例化对象\n",
    "    encoder_optimizer: 编码器优化器\n",
    "    dencoder_optimizer: 解码器优化器\n",
    "    criterion: 损失函数\n",
    "    max_length: 句子的最大长度\n",
    "    \"\"\"\n",
    "    # 初始化隐藏层张量\n",
    "    encoder_hidden = encoder.initHidden()\n",
    "    # 训练前将编码器和优化器梯度归0\n",
    "    encoder_optimizer.zero_grad()\n",
    "    decoder_optimizer.zero_grad()\n",
    "\n",
    "    # 根据源文本和目标文本张量获得对应的长度\n",
    "    input_length = input_tensor.size(0)\n",
    "    target_length = target_tensor.size(0)\n",
    "\n",
    "    # 初始化编码器的输出矩阵，形如 [max_length * encoder.hidden_size]\n",
    "    encoder_outputs = torch.zeros(max_length, encoder.hidden_size)\n",
    "\n",
    "    # 设置初始损失值\n",
    "    loss = 0\n",
    "\n",
    "    # 遍历输入张量\n",
    "    for ei in range(input_length):\n",
    "        encoder_output, encoder_hidden = encoder(input_tensor[ei], encoder_hidden)\n",
    "        # 每一次的输出 encoder_output的输出是三维张量, 使用[0, 0]降维到一维列表，赋值给输出张量\n",
    "        encoder_outputs[ei] = encoder_output[0, 0]\n",
    "\n",
    "    # 初始化解码器的第一个输入字符\n",
    "    decoder_input = torch.tensor([[SOS_token]])\n",
    "    # 初始化解码器的隐层张量, 赋值给最后一次编码器的隐层张量\n",
    "    decoder_hidden = encoder_hidden\n",
    "\n",
    "    # 是否使用 teacher_forcing\n",
    "    use_teacher_forcing = True if random.random() < teacher_forcing_ratio else False\n",
    "\n",
    "    # 如果使用 teacher_forcing\n",
    "    if use_teacher_forcing:\n",
    "        # 遍历目标张量进行解码\n",
    "        for di in range(target_length):\n",
    "            decoder_output, decoder_hidden, decoder_attention = decoder(decoder_input, decoder_hidden, encoder_outputs)\n",
    "            # 使用损失函数计算损失值\n",
    "            loss += criterion(decoder_output, target_tensor[di])\n",
    "            # 由于使用 teacher_forcing，故而将下一步的输入强制设定为\"正确答案\"\n",
    "            decoder_input = target_tensor[di]\n",
    "\n",
    "    # 如果不使用teacher_forcing\n",
    "    else:\n",
    "        # 遍历张量解码\n",
    "        for di in range(target_length):\n",
    "            decoder_output, decoder_hidden, decoder_attention = decoder(decoder_input, decoder_hidden, encoder_outputs)\n",
    "            # 预测值变成输出张量中概率最大的\n",
    "            topv, topi = decoder_output.topk(1)\n",
    "            # 使用损失函数累加\n",
    "            loss += criterion(decoder_output, target_tensor[di])\n",
    "            # 若某一步解码结果是句子终止符号，则解码直接结束\n",
    "            if topi.squeeze().item() == EOS_token:\n",
    "                break\n",
    "            decoder_input = topi.squeeze().detach()\n",
    "\n",
    "    # 反向传播\n",
    "    loss.backward()\n",
    "    # 利用编码器和解码器优化器参数更新\n",
    "    encoder_optimizer.step()\n",
    "    decoder_optimizer.step()\n",
    "    return loss.item() / target_length"
   ]
  },
  {
   "cell_type": "code",
   "execution_count": 32,
   "id": "3acbdf34-0266-4cb6-9f06-8f2e3e6e2842",
   "metadata": {},
   "outputs": [],
   "source": [
    "# 打印训练日志\n",
    "# 导入plt以便绘制损失曲线\n",
    "import matplotlib.pyplot as plt\n",
    "\n",
    "def trainIters(encoder, decoder, n_iters, print_every=1000, plot_every=100, learning_rate=0.01):\n",
    "    \"\"\"训练迭代函数, 输入参数有6个，分别是encoder, decoder: 编码器和解码器对象，\n",
    "       n_iters: 总迭代步数, print_every:打印日志间隔, plot_every:绘制损失曲线间隔, learning_rate学习率\"\"\"\n",
    "    # 获得训练开始时间戳\n",
    "    start = time.time()\n",
    "    # 每个损失间隔的平均损失保存列表，用于绘制损失曲线\n",
    "    plot_losses = []\n",
    "\n",
    "    # 每个打印日志间隔的总损失，初始为0\n",
    "    print_loss_total = 0  \n",
    "    # 每个绘制损失间隔的总损失，初始为0\n",
    "    plot_loss_total = 0  \n",
    "\n",
    "    # 使用预定义的SGD作为优化器，将参数和学习率传入其中\n",
    "    encoder_optimizer = optim.SGD(encoder.parameters(), lr=learning_rate)\n",
    "    decoder_optimizer = optim.SGD(decoder.parameters(), lr=learning_rate)\n",
    "\n",
    "    # 选择损失函数\n",
    "    criterion = nn.NLLLoss()\n",
    "\n",
    "    # 根据设置迭代步进行循环\n",
    "    for iter in range(1, n_iters + 1):\n",
    "        # 每次从语言对列表中随机取出一条作为训练语句\n",
    "        training_pair = tensorsFromPair(random.choice(pairs))\n",
    "        # 分别从training_pair中取出输入张量和目标张量\n",
    "        input_tensor = training_pair[0]\n",
    "        target_tensor = training_pair[1]\n",
    "\n",
    "        # 通过train函数获得模型运行的损失\n",
    "        loss = train(input_tensor, target_tensor, encoder,\n",
    "                     decoder, encoder_optimizer, decoder_optimizer, criterion)\n",
    "        # 将损失进行累和\n",
    "        print_loss_total += loss\n",
    "        plot_loss_total += loss\n",
    "\n",
    "        # 当迭代步达到日志打印间隔时\n",
    "        if iter % print_every == 0:\n",
    "            # 通过总损失除以间隔得到平均损失\n",
    "            print_loss_avg = print_loss_total / print_every\n",
    "            # 将总损失归0\n",
    "            print_loss_total = 0\n",
    "            # 打印日志，日志内容分别是：训练耗时，当前迭代步，当前进度百分比，当前平均损失\n",
    "            print('%s (%d %d%%) %.4f' % (timeSince(start),\n",
    "                                         iter, iter / n_iters * 100, print_loss_avg))\n",
    "\n",
    "        # 当迭代步达到损失绘制间隔时\n",
    "        if iter % plot_every == 0:\n",
    "            # 通过总损失除以间隔得到平均损失\n",
    "            plot_loss_avg = plot_loss_total / plot_every\n",
    "            # 将平均损失装进plot_losses列表\n",
    "            plot_losses.append(plot_loss_avg)\n",
    "            # 总损失归0\n",
    "            plot_loss_total = 0\n",
    "\n",
    "    # 绘制损失曲线\n",
    "    plt.figure()  \n",
    "    plt.plot(plot_losses)\n",
    "    # 保存到指定路径\n",
    "    plt.savefig(\"./s2s_loss.png\")\n"
   ]
  },
  {
   "cell_type": "code",
   "execution_count": 34,
   "id": "449f5b94-3217-4615-9a36-249ac82073fc",
   "metadata": {},
   "outputs": [],
   "source": [
    "# 设置隐层大小为256 ，也是词嵌入维度      \n",
    "hidden_size = 256\n",
    "# 通过input_lang.n_words获取输入词汇总数，与hidden_size一同传入EncoderRNN类中\n",
    "# 得到编码器对象encoder1\n",
    "encoder1 = EncodeRNN(input_lang.n_words, hidden_size)\n",
    "\n",
    "# 通过output_lang.n_words获取目标词汇总数，与hidden_size和dropout_p一同传入AttnDecoderRNN类中\n",
    "# 得到解码器对象attn_decoder1\n",
    "attn_decoder1 = AttnDecoderRNN(hidden_size, output_lang.n_words, dropout_p=0.1)\n",
    "\n",
    "# 设置迭代步数 \n",
    "n_iters = 13000\n",
    "# 设置日志打印间隔\n",
    "print_every = 500\n"
   ]
  },
  {
   "cell_type": "code",
   "execution_count": 35,
   "id": "24ca853b-5dff-4954-85c1-572b3abc5c92",
   "metadata": {},
   "outputs": [
    {
     "name": "stdout",
     "output_type": "stream",
     "text": [
      "1m 1s (500 3%) 4.2725\n",
      "2m 5s (1000 7%) 3.7417\n",
      "3m 8s (1500 11%) 3.5464\n",
      "4m 11s (2000 15%) 3.4867\n",
      "5m 13s (2500 19%) 3.3409\n",
      "6m 17s (3000 23%) 3.2846\n",
      "7m 21s (3500 26%) 3.2149\n",
      "8m 27s (4000 30%) 3.1602\n",
      "9m 30s (4500 34%) 3.0440\n",
      "10m 35s (5000 38%) 3.0399\n",
      "11m 39s (5500 42%) 2.8851\n",
      "12m 43s (6000 46%) 2.9064\n",
      "13m 48s (6500 50%) 2.9558\n",
      "14m 52s (7000 53%) 2.8467\n",
      "15m 56s (7500 57%) 2.8619\n",
      "17m 1s (8000 61%) 2.7900\n",
      "18m 5s (8500 65%) 2.7637\n",
      "19m 9s (9000 69%) 2.6287\n",
      "20m 13s (9500 73%) 2.6932\n",
      "21m 17s (10000 76%) 2.6209\n",
      "22m 21s (10500 80%) 2.6357\n",
      "23m 28s (11000 84%) 2.5604\n",
      "24m 33s (11500 88%) 2.4735\n",
      "25m 37s (12000 92%) 2.4902\n",
      "26m 40s (12500 96%) 2.4107\n",
      "27m 44s (13000 100%) 2.4786\n"
     ]
    },
    {
     "data": {
      "image/png": "[encoded data removed]",
      "text/plain": [
       "<Figure size 640x480 with 1 Axes>"
      ]
     },
     "metadata": {},
     "output_type": "display_data"
    }
   ],
   "source": [
    "# 调用trainIters进行模型训练，将编码器对象encoder1，码器对象attn_decoder1，迭代步数，日志打印间隔传入其中\n",
    "trainIters(encoder1, attn_decoder1, n_iters, print_every=print_every)\n"
   ]
  },
  {
   "cell_type": "code",
   "execution_count": 36,
   "id": "4b672c31-fd19-4d2a-9a36-88615ad45b23",
   "metadata": {},
   "outputs": [],
   "source": [
    "def evaluate(encoder, decoder, sentence, max_length=MAX_LENGTH):\n",
    "    # encoder: 编码器对象\n",
    "    # decoder: 解码器对象\n",
    "    # sentence: 待评估的原语句\n",
    "    # max_length: 句子最大长度\n",
    "    # 注意: 这个评估过程梯度不改变\n",
    "    with torch.no_grad():\n",
    "        # 对输入语句张量表示\n",
    "        input_tensor = tensorsFromSentence(input_lang, sentence)\n",
    "        # 获得输入句子长度\n",
    "        input_length = input_tensor.size(0)\n",
    "        # 初始化编码器的隐层张量\n",
    "        encoder_hidden = encoder.initHidden()\n",
    "        # 初始化编码器输出张量, 矩阵形状: [max_length * hidden_size]\n",
    "        encoder_outputs = torch.zeros(max_length, encoder.hidden_size)\n",
    "\n",
    "        # 遍历输入张量\n",
    "        for ei in range(input_length):\n",
    "            encoder_output, encoder_hidden = encoder(input_tensor[ei], encoder_hidden)\n",
    "            # 将三维张量的输出先降维到一维、赋值给 encoder_outputs\n",
    "            encoder_outputs[ei] = encoder_output[0, 0]\n",
    "\n",
    "        # 初始化解码器的第一个输入，就是起始字符\n",
    "        decoder_input = torch.tensor([[SOS_token]])\n",
    "        # 初始化解码器隐层输入\n",
    "        decoder_hidden = encoder_hidden\n",
    "        # 初始化预测词汇的列表\n",
    "        decoder_words = []\n",
    "        # 初始化一个attention张量\n",
    "        decoder_attentions = torch.zeros(max_length, max_length)\n",
    "\n",
    "        # 遍历解码\n",
    "        for di in range(max_length):\n",
    "            decoder_output, decoder_hidden, decoder_attention = decoder(decoder_input, decoder_hidden, encoder_outputs)\n",
    "            # 首先将注意力张量保存\n",
    "            decoder_attentions[di] = decoder_attention.data\n",
    "            # 按照解码器输出最高概率作为当前时间步的预测值\n",
    "            topv, topi = decoder_output.data.topk(1)\n",
    "            # 如果解析出的是结束字符\n",
    "            if topi.item == EOS_token:\n",
    "                # 将结束字符添加到结果列表中，并退出解码循环\n",
    "                decoder_words.append(\"<EOS>\")\n",
    "                break\n",
    "            else:\n",
    "                # 根据索引去将真实的字符添加进结果列表中\n",
    "                decoder_words.append(output_lang.index2word[topi.item()])\n",
    "\n",
    "            # 最后一步将预测的标签赋值给下一步的解码输入\n",
    "            decoder_input = topi.squeeze().detach()\n",
    "        # 返回最终解码的结果列表, 以及注意力张量\n",
    "        return decoder_words, decoder_attentions[:di + 1]"
   ]
  },
  {
   "cell_type": "code",
   "execution_count": 37,
   "id": "ee30aa41-9f51-41dd-9937-9169251505a8",
   "metadata": {},
   "outputs": [],
   "source": [
    "# 随机选择指定数量数据评估\n",
    "def evaluateRandomly(encoder, decoder, n=6):\n",
    "    for i in range(n):\n",
    "        pair = random.choice(pairs)\n",
    "        print(f\"> {pair[0]}\")\n",
    "        print(f\"= {pair[1]}\")\n",
    "        output_words, attentions = evaluate(encoder, decoder, pair[0])\n",
    "        output_sentence = \" \".join(output_words)\n",
    "        print(f\"< {output_sentence}\")\n",
    "        print(\" \")"
   ]
  },
  {
   "cell_type": "code",
   "execution_count": 38,
   "id": "6219ce8b-3f65-4b46-a45b-e031be713451",
   "metadata": {},
   "outputs": [
    {
     "name": "stdout",
     "output_type": "stream",
     "text": [
      "> he is always making a fool of me .\n",
      "= il se moque toujours de moi .\n",
      "< il est le a moi . EOS . EOS .\n",
      " \n",
      "> i m glad to hear that .\n",
      "= je suis heureux d entendre cela .\n",
      "< je me rejouis de l EOS . EOS . EOS\n",
      " \n",
      "> i am out of work .\n",
      "= je suis au chomage .\n",
      "< je suis a l . . EOS . EOS .\n",
      " \n",
      "> you re ambitious .\n",
      "= vous etes ambitieuses .\n",
      "< tu es ! . EOS . EOS . EOS .\n",
      " \n",
      "> you re a nerd .\n",
      "= tu es un binoclard .\n",
      "< tu es un menteur . EOS . EOS . EOS\n",
      " \n",
      "> we re paying .\n",
      "= nous sommes en train de payer .\n",
      "< nous sommes en . EOS . EOS . EOS .\n",
      " \n"
     ]
    }
   ],
   "source": [
    "evaluateRandomly(encoder1, attn_decoder1)"
   ]
  },
  {
   "cell_type": "code",
   "execution_count": 37,
   "id": "0750bb21-31da-4e7b-8982-c6acd4e687cd",
   "metadata": {},
   "outputs": [
    {
     "name": "stdout",
     "output_type": "stream",
     "text": [
      "['nous', 'sommes', 'tous', '.', 'EOS', '.', 'EOS', '.', 'EOS', '.']\n"
     ]
    },
    {
     "data": {
      "text/plain": [
       "<matplotlib.image.AxesImage at 0x2706f57a370>"
      ]
     },
     "execution_count": 37,
     "metadata": {},
     "output_type": "execute_result"
    },
    {
     "data": {
      "text/plain": [
       "<Figure size 640x480 with 0 Axes>"
      ]
     },
     "metadata": {},
     "output_type": "display_data"
    },
    {
     "data": {
      "image/png": "[encoded data removed]",
      "text/plain": [
       "<Figure size 480x480 with 1 Axes>"
      ]
     },
     "metadata": {},
     "output_type": "display_data"
    }
   ],
   "source": [
    "# 注意力可视化\n",
    "sentence = \"we are both teachers .\"\n",
    "output_words, attention = evaluate(encoder1, attn_decoder1, sentence)\n",
    "print(output_words)\n",
    "plt.figure()\n",
    "plt.matshow(attention.numpy())"
   ]
  },
  {
   "cell_type": "code",
   "execution_count": 14,
   "id": "3e648fc8-2b06-4e71-8c47-af955771c59b",
   "metadata": {},
   "outputs": [
    {
     "data": {
      "text/plain": [
       "'abcabA'"
      ]
     },
     "execution_count": 14,
     "metadata": {},
     "output_type": "execute_result"
    }
   ],
   "source": [
    "re.sub(r\"(ab)c(ert)f\", r\"\\1A\", \"abcabcertf\")"
   ]
  },
  {
   "cell_type": "code",
   "execution_count": 38,
   "id": "b0c093b3-bb2c-48bc-b85f-8103b5e6a6bf",
   "metadata": {},
   "outputs": [],
   "source": [
    "import argparse"
   ]
  },
  {
   "cell_type": "code",
   "execution_count": 39,
   "id": "5fe5805b-a582-4dcf-bb23-359beab1d24d",
   "metadata": {},
   "outputs": [],
   "source": [
    "import json"
   ]
  },
  {
   "cell_type": "code",
   "execution_count": 51,
   "id": "1ca6ec5d-d814-42fd-8594-3c4c636843a1",
   "metadata": {},
   "outputs": [
    {
     "name": "stdout",
     "output_type": "stream",
     "text": [
      "8.6\n"
     ]
    }
   ],
   "source": [
    "import tkinter\n",
    "print(tkinter.TkVersion)"
   ]
  }
 ],
 "metadata": {
  "kernelspec": {
   "display_name": "sdsd_torch",
   "language": "python",
   "name": "sdsd_torch"
  },
  "language_info": {
   "codemirror_mode": {
    "name": "ipython",
    "version": 3
   },
   "file_extension": ".py",
   "mimetype": "text/x-python",
   "name": "python",
   "nbconvert_exporter": "python",
   "pygments_lexer": "ipython3",
   "version": "3.9.16"
  }
 },
 "nbformat": 4,
 "nbformat_minor": 5
}
