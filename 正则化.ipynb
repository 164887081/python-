{
 "cells": [
  {
   "cell_type": "code",
   "execution_count": 1,
   "id": "602d8d99-c098-4f22-a451-24acb0552e1a",
   "metadata": {},
   "outputs": [],
   "source": [
    "import re"
   ]
  },
  {
   "cell_type": "code",
   "execution_count": 3,
   "id": "cb4cdff2-fd00-4aa9-8a9d-ba9a27d26fc8",
   "metadata": {},
   "outputs": [
    {
     "name": "stdout",
     "output_type": "stream",
     "text": [
      "[]\n"
     ]
    }
   ],
   "source": [
    "# 使用match方法通过正则化匹配结果(match只能匹配开头, 如果匹配任意位置也可以使用findall)\n",
    "str1 = '13575006899'\n",
    "result = re.findall('2', str1)\n",
    "print(result)"
   ]
  },
  {
   "cell_type": "code",
   "execution_count": 6,
   "id": "f1609473-694a-4628-8b23-39c26df36882",
   "metadata": {},
   "outputs": [
    {
     "name": "stdout",
     "output_type": "stream",
     "text": [
      "['6', '8']\n"
     ]
    }
   ],
   "source": [
    "# 定义一个字符串, 判断这个字符串是否包含数字\n",
    "str1 = \"abc6de8fg\"\n",
    "result = re.findall('\\d', str1) # 使用\"\\d\"代替数字，检验是否包含数字\n",
    "print(result)"
   ]
  },
  {
   "cell_type": "code",
   "execution_count": 7,
   "id": "4dac854d-23ba-44bd-a2d1-1a74a5222683",
   "metadata": {},
   "outputs": [
    {
     "name": "stdout",
     "output_type": "stream",
     "text": [
      "['a', 'b', 'c', 'd', 'e', 'f', 'g', '!', '@', '#', '$', '%']\n"
     ]
    }
   ],
   "source": [
    "# 定义一个字符串，获取字符串中所有非数字的字符\n",
    "str1 = \"abcdefg!@#$%\"\n",
    "result = re.findall(\"\\D\", str1) # 大写的D 代表非数字\n",
    "print(result)"
   ]
  },
  {
   "cell_type": "markdown",
   "id": "dd3c35b3-1323-4650-bf9b-5c2f725f7c1d",
   "metadata": {},
   "source": [
    "# 匹配单个字符"
   ]
  },
  {
   "cell_type": "markdown",
   "id": "1323b093-1c18-4203-a62c-e96f051401ec",
   "metadata": {},
   "source": [
    "| 代码 | 功能 |\n",
    "| :------: | ---------- |\n",
    "| . |  匹配任意1个字符(除了\\n) |  \n",
    "| [] | 匹配[] 中列举的字符 |\n",
    "| \\d | 匹配数字, 即0-9 |\n",
    "| \\D | 匹配非数字, 即不是数字 |\n",
    "| \\s | 匹配空白, 即空格, tab键 |\n",
    "| \\S | 匹配非空白 |\n",
    "| \\w | 匹配非特殊字符, a-z、A-Z、0-9、_、汉字 |\n",
    "| \\W | 匹配特殊字符, 即非字母、非数字、非汉字 |"
   ]
  },
  {
   "cell_type": "code",
   "execution_count": 12,
   "id": "7eeb4242-e709-4b5d-a1a6-2f9233fbb528",
   "metadata": {},
   "outputs": [
    {
     "name": "stdout",
     "output_type": "stream",
     "text": [
      "没有匹配到\n"
     ]
    }
   ],
   "source": [
    "str1 = \"itcast\"\n",
    "# 匹配数据\n",
    "result = re.match(\"itcast.\", str1)\n",
    "# 获取数据\n",
    "if result:\n",
    "    info = result.group()\n",
    "    print(result)\n",
    "    print(info)\n",
    "else:\n",
    "    print(\"没有匹配到\")"
   ]
  },
  {
   "cell_type": "code",
   "execution_count": 48,
   "id": "8a8f6dc1-13bf-4f18-b2d3-0a7e03560aaa",
   "metadata": {},
   "outputs": [
    {
     "name": "stdout",
     "output_type": "stream",
     "text": [
      "<re.Match object; span=(0, 7), match='itcast-'>\n",
      "itcast-\n"
     ]
    }
   ],
   "source": [
    "str1 = \"itcast8\"\n",
    "str2 = \"itcastb\"\n",
    "str3 = \"itcast5\"\n",
    "str4 = \"itcaste\"\n",
    "str5 = \"itcast\\t111\" # \\s 一个字符，如果str中包含多个空格就失败\n",
    "str6 = \"itcast\\t\"\n",
    "str7 = \"itcast你\"\n",
    "str8 = \"itcast-\"\n",
    "# 匹配数据\n",
    "# result = re.match(\"itcast[123abc.]\", str4)\n",
    "# result = re.match(\"itcast[09-]\", str1)\n",
    "# result = re.match(\"itcast[0-9]\", str1) # \\d 等价于[0123456789] 等价于[0-9]  但是注意[09-]匹配的是0、9、-这三个字符\n",
    "# result = re.match(\"itcast\\S\", str6)\n",
    "# result = re.match(\"itcast\\S\", str6)\n",
    "# result = re.match(\"itcast\\w\", str7)\n",
    "result = re.match(\"itcast\\W\", str8)\n",
    "# 获取数据\n",
    "if result:\n",
    "    info = result.group()\n",
    "    print(result)\n",
    "    print(info)\n",
    "else:\n",
    "    print(\"没有匹配到\")"
   ]
  },
  {
   "cell_type": "markdown",
   "id": "4ef3df35-ae0c-4cfc-b755-969be6cc30a6",
   "metadata": {},
   "source": [
    "# 匹配多个字符"
   ]
  },
  {
   "cell_type": "markdown",
   "id": "eb5c8902-5f65-4aca-8b26-8a42a3eddd62",
   "metadata": {},
   "source": [
    "|    代码    |    功能    |\n",
    "| :----------: | ----------|\n",
    "|    *    |    匹配前一个字符出现0次或者无限次，即可有可无|\n",
    "|    +    |    匹配前一个字符出现1次或者无限次，即至少1次|\n",
    "|    ?    |    匹配前一个字符出现1次或者0次, 即要么1次要么没有|\n",
    "|    {m}  |    匹配前一个字符出现m次|\n",
    "|{m, n}| 匹配前一个字符出现从m带n次|"
   ]
  },
  {
   "cell_type": "code",
   "execution_count": 94,
   "id": "782399e9-6b67-4bfd-9d7d-f289db0ed7e6",
   "metadata": {},
   "outputs": [
    {
     "name": "stdout",
     "output_type": "stream",
     "text": [
      "itcast22222itcast\n"
     ]
    }
   ],
   "source": [
    "str1 = \"itcast21\"\n",
    "str2 = \"itcast2d1\"\n",
    "str3 = \"itcastitcast2\"\n",
    "str4 = \"itcast22222itcast2\"\n",
    "# result = re.match(\"itcast1*\", str1) # 对1进行规则匹配\n",
    "# result = re.match(\"itcast\\d*\", str3)  # 如果希望不仅仅是1呢，那么共性是均是数字，那么就可以使用\\d,就更灵活了,可以0次可以无限次\n",
    "# result = re.match(\"itcast\\d*itcast\", str3)\n",
    "# result = re.match(\"itcast\\d+itcast\", str3) # 至少出现依一次数字\n",
    "# result = re.match(\"itcast\\d?itcast\", str3) # 要么出现依一次数字, 要么没有\n",
    "# result = re.match(\"itcast\\d{2}itcast\", str4) # 要么出现m次\n",
    "# result = re.match(\"itcast\\d{2,5}itcast\", str4) # 要么出现n-m次\n",
    "result = re.match(\"itcast\\d{2,}itcast\", str4) # 至少出现m次\n",
    "# 获取数据\n",
    "if result:\n",
    "    info = result.group()\n",
    "    # print(result)\n",
    "    print(info)\n",
    "else:\n",
    "    print(\"没有匹配到\")"
   ]
  },
  {
   "cell_type": "markdown",
   "id": "a82deb1a-8fd7-454b-9c28-b48682ac1225",
   "metadata": {},
   "source": [
    "# 匹配开头和结尾"
   ]
  },
  {
   "cell_type": "markdown",
   "id": "69efe537-7644-44e0-82c1-5c9a08507c74",
   "metadata": {},
   "source": [
    "| 代码 | 功能 |\n",
    "| :-------: | -------- |\n",
    "| ^ | 匹配字符串开头 |\n",
    "| $ | 匹配字符串结尾 |\n",
    "| [^ 指定字符] | 匹配除了指定字符以外的所有字符 |"
   ]
  },
  {
   "cell_type": "code",
   "execution_count": 153,
   "id": "138c9e53-3c55-4990-9585-9724b5a3503a",
   "metadata": {},
   "outputs": [
    {
     "name": "stdout",
     "output_type": "stream",
     "text": [
      "没有匹配到\n"
     ]
    }
   ],
   "source": [
    "# str1 = \"11itcast\"\n",
    "# str2 = \"23q883itcast\"\n",
    "# str3 = \"itcast8\"\n",
    "str4 = \"itcast1\"\n",
    "# result = re.match(\"^\\ditcast\", str1) # 单个字符成立，如果是多个数字仍然匹配失败\n",
    "# result = re.match(\"^\\d.*itcast\", str2) # 基于前面的多字符匹配规则，那么使用 * 可以匹配成功多个数字,使用.*匹配任意字符且任意次数，两者区别在于\"68y9itcast\"的字母y是否存在\n",
    "# result = re.match(\"^\\d.*\", str2) # 以数字为开头, .匹配任意字符，因此数字内部可以出现字母\n",
    "# result = re.match(\".*\", str3) # 任意字符，任意数量\n",
    "result = re.match(\".\\d$\", str4)\n",
    "\n",
    "# 获取数据\n",
    "if result:\n",
    "    info = result.group()\n",
    "    # print(result)\n",
    "    print(info)\n",
    "else:\n",
    "    print(\"没有匹配到\")"
   ]
  },
  {
   "cell_type": "code",
   "execution_count": 158,
   "id": "63568fa4-92b6-41c3-8283-b477562c7b84",
   "metadata": {},
   "outputs": [
    {
     "name": "stdout",
     "output_type": "stream",
     "text": [
      "123itcast132\n"
     ]
    }
   ],
   "source": [
    "# 匹配以数字开头, 以数字结尾\n",
    "str1 = \"123itcast132\"\n",
    "result = re.match(\"^\\d.*\\d$\", str1)\n",
    "# 获取数据\n",
    "if result:\n",
    "    info = result.group()\n",
    "    # print(result)\n",
    "    print(info)\n",
    "else:\n",
    "    print(\"没有匹配到\")"
   ]
  },
  {
   "cell_type": "code",
   "execution_count": 164,
   "id": "64f2ed6b-c0b8-4b66-b668-e1f05a6ec6b2",
   "metadata": {},
   "outputs": [
    {
     "name": "stdout",
     "output_type": "stream",
     "text": [
      "12itcast\n"
     ]
    }
   ],
   "source": [
    "str1 = \"12itcast\"\n",
    "result = re.match(\"^\\d.*[^4]$\", str1) # 匹配不以4结尾,数字开头\n",
    "# 获取数据\n",
    "if result:\n",
    "    info = result.group()\n",
    "    # print(result)\n",
    "    print(info)\n",
    "else:\n",
    "    print(\"没有匹配到\")"
   ]
  },
  {
   "cell_type": "markdown",
   "id": "bcc7b71a-e260-4849-b07f-93d163efe9aa",
   "metadata": {},
   "source": [
    "# 匹配分组"
   ]
  },
  {
   "cell_type": "markdown",
   "id": "73f164ce-5e7b-4e55-8312-d18d002ecc61",
   "metadata": {},
   "source": [
    "| 代码 | 功能 |\n",
    "| :-------: | ----------- |\n",
    "| \\| | 匹配左右任意一个表达式 |\n",
    "| (ab) | 将括号中字符作为一个分组 |\n",
    "| \\num | 引用分组num匹配到的字符串 |\n",
    "| (?P<name>) | 分组起别名 |\n",
    "| (?P=name) | 引用别名为name分组匹配到的字符串 |"
   ]
  },
  {
   "cell_type": "code",
   "execution_count": 168,
   "id": "335898fb-8190-420c-9ba9-f34b6e9a3ef4",
   "metadata": {},
   "outputs": [
    {
     "name": "stdout",
     "output_type": "stream",
     "text": [
      "apple\n",
      "没有匹配到\n",
      "没有匹配到\n",
      "pear\n"
     ]
    }
   ],
   "source": [
    "fruit = [\"apple\", \"banana\", \"orange\", \"pear\"]\n",
    "for value in fruit:\n",
    "    result = re.match(\"apple|pear\", value)\n",
    "    if result:\n",
    "        info = result.group()\n",
    "        print(info)\n",
    "    else:\n",
    "        print(\"没有匹配到\")"
   ]
  },
  {
   "cell_type": "code",
   "execution_count": 174,
   "id": "7a57115c-1e7d-4f0b-8a82-3da321673bbd",
   "metadata": {},
   "outputs": [
    {
     "name": "stdout",
     "output_type": "stream",
     "text": [
      "hello@163.com\n"
     ]
    }
   ],
   "source": [
    "# 匹配出163、126、qq邮箱---\\起到转义字符作用\n",
    "str1 = \"hello@163.com\"\n",
    "result = re.match(\"[a-zA-Z0-9_]{4,20}@(163|126|qq)\\.com\", str1)\n",
    "info = result.group()\n",
    "print(info)"
   ]
  },
  {
   "cell_type": "code",
   "execution_count": 178,
   "id": "0fe9fe53-2f18-4832-8ef0-93b91ab26ce1",
   "metadata": {},
   "outputs": [
    {
     "name": "stdout",
     "output_type": "stream",
     "text": [
      "qq:10567\n",
      "10567\n"
     ]
    }
   ],
   "source": [
    "# 匹配qq:10567这样的数据, 提取出qq文字和qq号码\n",
    "str1 = \"qq:10567\"\n",
    "result = re.match(\"qq:([1-9]\\d{4,11})\", str1) # 加上括号就是分组，构成一个整体，由于是第一个分组，因此qq号码是第一个分组\n",
    "if result:\n",
    "    info = result.group()\n",
    "    print(info)\n",
    "    num = result.group(1)\n",
    "    print(num)\n",
    "else:\n",
    "    print(\"匹配失败\")\n",
    "\n",
    "# group(0) 代表匹配所有数据, 1: 第一个分组的数据, 2: 第二个分组的数据, 顺序是从左到右依次, 默认是0\n"
   ]
  },
  {
   "cell_type": "code",
   "execution_count": 182,
   "id": "63455058-6f1a-4499-8fe6-8a4c3dfc6041",
   "metadata": {},
   "outputs": [
    {
     "name": "stdout",
     "output_type": "stream",
     "text": [
      "<html>hh</html>\n"
     ]
    }
   ],
   "source": [
    "# 匹配出<html>hh<html>\n",
    "str1 = \"<html>hh</html>\"\n",
    "result = re.match(\"<([a-zA-Z1-6]{4})>.*</\\\\1>\", str1)\n",
    "if result:\n",
    "    info = result.group()\n",
    "    print(info)\n",
    "else:\n",
    "    print(\"匹配失败\")"
   ]
  },
  {
   "cell_type": "code",
   "execution_count": 183,
   "id": "813de48a-be65-4470-91d7-06e92167c535",
   "metadata": {},
   "outputs": [
    {
     "name": "stdout",
     "output_type": "stream",
     "text": [
      "<html><h1>www.itcast.cn</h1></html>\n"
     ]
    }
   ],
   "source": [
    "# 匹配出<html><h1>www.itcast.cn</h1></html>\n",
    "str1 = \"<html><h1>www.itcast.cn</h1></html>\"\n",
    "result = re.match(\"<([a-zA-Z1-6]{4})><([a-zA-Z1-6]{2})>.*</\\\\2></\\\\1>\", str1)\n",
    "if result:\n",
    "    info = result.group()\n",
    "    print(info)\n",
    "else:\n",
    "    print(\"匹配失败\")"
   ]
  },
  {
   "cell_type": "code",
   "execution_count": 184,
   "id": "16bb6fdf-7845-4f16-91a8-56d2cc26cfdf",
   "metadata": {},
   "outputs": [
    {
     "name": "stdout",
     "output_type": "stream",
     "text": [
      "<html><h1>www.itcast.cn</h1></html>\n"
     ]
    }
   ],
   "source": [
    "# 匹配出<html><h1>www.itcast.cn</h1></html>\n",
    "\n",
    "str1 = \"<html><h1>www.itcast.cn</h1></html>\"\n",
    "result = re.match(\"<(?P<html>[a-zA-Z1-6]{4})><(?P<h1>[a-zA-Z1-6]{2})>.*</(?P=h1)></(?P=html)>\", str1)\n",
    "if result:\n",
    "    info = result.group()\n",
    "    print(info)\n",
    "else:\n",
    "    print(\"匹配失败\")"
   ]
  },
  {
   "cell_type": "code",
   "execution_count": null,
   "id": "d0984833-0cb3-494c-81e1-0b15c8beab1c",
   "metadata": {},
   "outputs": [],
   "source": []
  },
  {
   "cell_type": "code",
   "execution_count": null,
   "id": "14d856be-ebe8-4417-bad3-e561f65f572d",
   "metadata": {},
   "outputs": [],
   "source": []
  },
  {
   "cell_type": "code",
   "execution_count": null,
   "id": "088214fa-669f-4201-8849-c6f60a56ef64",
   "metadata": {},
   "outputs": [],
   "source": []
  },
  {
   "cell_type": "code",
   "execution_count": 185,
   "id": "783bc85a-51c2-40cf-a58e-ef8929a584ab",
   "metadata": {},
   "outputs": [],
   "source": [
    "from math import exp\n",
    "from matplotlib import pyplot as plt\n",
    "import numpy as np"
   ]
  },
  {
   "cell_type": "code",
   "execution_count": 186,
   "id": "f7b93e81-e278-49d5-ac2f-c3a7cd9914a9",
   "metadata": {},
   "outputs": [
    {
     "data": {
      "image/png": "[encoded data removed]",
      "text/plain": [
       "<Figure size 640x480 with 1 Axes>"
      ]
     },
     "metadata": {},
     "output_type": "display_data"
    }
   ],
   "source": [
    "f = lambda x: exp(x * 2) / (exp(x) + exp(x) + exp(x * 2))\n",
    "x = np.linspace(0, 100, 100)\n",
    "y_3 = [f(x_i) for x_i in x]\n",
    "plt.plot(x, y_3)\n",
    "plt.show()"
   ]
  }
 ],
 "metadata": {
  "kernelspec": {
   "display_name": "sdsd_torch",
   "language": "python",
   "name": "sdsd_torch"
  },
  "language_info": {
   "codemirror_mode": {
    "name": "ipython",
    "version": 3
   },
   "file_extension": ".py",
   "mimetype": "text/x-python",
   "name": "python",
   "nbconvert_exporter": "python",
   "pygments_lexer": "ipython3",
   "version": "3.9.16"
  }
 },
 "nbformat": 4,
 "nbformat_minor": 5
}
